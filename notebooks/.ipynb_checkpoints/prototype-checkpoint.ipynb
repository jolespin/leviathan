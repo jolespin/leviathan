{
 "cells": [
  {
   "cell_type": "code",
   "execution_count": 2,
   "id": "50d89afe-1302-4db1-a420-ecc4fe45f7d2",
   "metadata": {},
   "outputs": [
    {
     "data": {
      "text/plain": [
       "'0.10.12'"
      ]
     },
     "execution_count": 2,
     "metadata": {},
     "output_type": "execute_result"
    }
   ],
   "source": [
    "from pyhmmer.plan7 import HMMFile\n",
    "from pyhmmer.easel import SequenceFile\n",
    "from pyhmmer import hmmsearch\n",
    "import sys, os, glob, gzip, warnings, pickle\n",
    "import pandas as pd\n",
    "from tqdm import tqdm\n",
    "from collections import defaultdict\n",
    "from soothsayer_utils import *\n",
    "import pyhmmer\n",
    "pyhmmer.__version__"
   ]
  },
  {
   "cell_type": "code",
   "execution_count": 71,
   "id": "ac3f06c4-e96e-4020-a416-4b64304b72f4",
   "metadata": {},
   "outputs": [],
   "source": [
    "# with HMMFile(\"/Users/jolespin/Databases/KOFAM/test.hmm\") as hmm_file:\n",
    "class Dummy():pass\n",
    "opts = Dummy()\n",
    "\n",
    "opts.proteins = \"../test.faa\"\n",
    "# opts.kofam_database = \"/Users/jolespin/Databases/KOFAM\"\n",
    "opts.evalue = 10\n",
    "opts.n_jobs = 12\n",
    "\n",
    "# df_meta_kofam = pd.read_csv(os.path.join(opts.kofam_database, \"ko_list\"), sep=\"\\t\", index_col=0)\n",
    "# ko_to_data = df_meta_kofam.T.to_dict()\n",
    "\n",
    "\n",
    "        \n",
    "\n",
    "name_to_hmm = dict()\n",
    "\n",
    "with HMMFile(\"/Users/jolespin/Databases/Pfam/Pfam-A.hmm.gz\") as hmm_file:\n",
    "    for hmm in list(hmm_file):\n",
    "        name_to_hmm[hmm.accession.decode()] = hmm\n",
    "\n",
    "with gzip.open(\"/Users/jolespin/Databases/Pfam/database.pkl.gz\", \"wb\") as f:\n",
    "    pickle.dump(name_to_hmm, f)\n",
    "\n"
   ]
  },
  {
   "cell_type": "code",
   "execution_count": 73,
   "id": "d5f84ebc-14cc-4ae4-9a58-f8420ffb47fd",
   "metadata": {},
   "outputs": [],
   "source": [
    "with gzip.open(\"/Users/jolespin/Databases/Pfam/database.pkl.gz\", \"wb\") as f:\n",
    "    pickle.dump(name_to_hmm, f)"
   ]
  },
  {
   "cell_type": "code",
   "execution_count": 75,
   "id": "633ef024-8693-4631-9e43-1778dd7226e3",
   "metadata": {},
   "outputs": [],
   "source": [
    "name_to_hmm = read_object(\"/Users/jolespin/Databases/Pfam/database.pkl.gz\")\n"
   ]
  },
  {
   "cell_type": "code",
   "execution_count": 76,
   "id": "d24be844-2891-476e-87ae-4aeb994d7c64",
   "metadata": {},
   "outputs": [
    {
     "data": {
      "text/plain": [
       "(0.07795137166976929, 0.010516392067074776)"
      ]
     },
     "execution_count": 76,
     "metadata": {},
     "output_type": "execute_result"
    }
   ],
   "source": [
    "name_to_hmm[\"PF09847.13\"].cutoffs.gathering"
   ]
  },
  {
   "cell_type": "code",
   "execution_count": 78,
   "id": "cfc01a2c-72d6-4440-b6fb-c911e00ba06d",
   "metadata": {},
   "outputs": [
    {
     "name": "stdout",
     "output_type": "stream",
     "text": [
      "0.10.11\n",
      "(33.20000076293945, 33.20000076293945)\n",
      "(0.07795137166976929, 0.010516392067074776)\n"
     ]
    }
   ],
   "source": [
    "import pyhmmer\n",
    "from pyhmmer.plan7 import HMMFile\n",
    "from pyhmmer.easel import SequenceFile\n",
    "from pyhmmer import hmmsearch\n",
    "import sys, os, gzip,  pickle\n",
    "\n",
    "name_to_hmm = dict()\n",
    "with HMMFile(\"/Users/jolespin/Databases/Pfam/Pfam-A.hmm.gz\") as hmm_file:\n",
    "    for hmm in list(hmm_file):\n",
    "        name_to_hmm[hmm.accession.decode()] = hmm\n",
    "\n",
    "print(pyhmmer.__version__)\n",
    "# 0.10.11\n",
    "query_hmm = name_to_hmm[\"PF09847.13\"]\n",
    "print(query_hmm.cutoffs.gathering)\n",
    "# (33.20000076293945, 33.20000076293945)\n",
    "\n",
    "# Write pickle\n",
    "with gzip.open(\"PF09847.13.pkl.gz\", \"wb\") as f:\n",
    "    pickle.dump(query_hmm, f)\n",
    "\n",
    "# Read pickle\n",
    "with gzip.open(\"PF09847.13.pkl.gz\", \"rb\") as f:\n",
    "    query_hmm_reloaded = pickle.load(f)\n",
    "\n",
    "print(query_hmm_reloaded.cutoffs.gathering)\n",
    "# (0.07795137166976929, 0.010516392067074776)\n",
    "\n",
    "\n"
   ]
  },
  {
   "cell_type": "code",
   "execution_count": 83,
   "id": "14b14bd9-726c-4740-ae8f-825ce86e9ca4",
   "metadata": {},
   "outputs": [
    {
     "data": {
      "text/plain": [
       "<HMM alphabet=Alphabet.amino() M=449 name=b'12TM_1'>"
      ]
     },
     "execution_count": 83,
     "metadata": {},
     "output_type": "execute_result"
    }
   ],
   "source": [
    "(query_hmm)\n",
    "\n"
   ]
  },
  {
   "cell_type": "code",
   "execution_count": null,
   "id": "6fb37cab-1e92-4359-8213-6d88ad66053f",
   "metadata": {},
   "outputs": [],
   "source": []
  },
  {
   "cell_type": "code",
   "execution_count": null,
   "id": "40201b6f-5988-473f-8795-77324ca26109",
   "metadata": {},
   "outputs": [],
   "source": []
  },
  {
   "cell_type": "code",
   "execution_count": 8,
   "id": "16cede4a-4a97-4cbe-9b81-7aecafc4d480",
   "metadata": {},
   "outputs": [],
   "source": [
    "with SequenceFile(opts.proteins, format=\"fasta\", digital=True) as seqs_file:\n",
    "    proteins = seqs_file.read_block()"
   ]
  },
  {
   "cell_type": "code",
   "execution_count": 36,
   "id": "975999a7-0b0e-40e9-bdd1-45a639c287fd",
   "metadata": {
    "scrolled": true
   },
   "outputs": [
    {
     "name": "stderr",
     "output_type": "stream",
     "text": [
      "0it [00:00, ?it/s]\n"
     ]
    }
   ],
   "source": [
    "import collections\n",
    "\n",
    "def filter_threshold(\n",
    "    hit, \n",
    "    threshold,\n",
    "    score_type, \n",
    "    ):\n",
    "\n",
    "    evalue = \"{:0.5e}\".format(hit.evalue)\n",
    "\n",
    "\n",
    "    if score_type:\n",
    "        if score_type == \"domain\":\n",
    "            score = hit.best_domain.score\n",
    "        else:\n",
    "            score = hit.score\n",
    "        if score >= threshold:\n",
    "            return (threshold, score, evalue)\n",
    "    else:\n",
    "        return (\"\", score, evalue)\n",
    "        \n",
    "        \n",
    "            \n",
    "\n",
    "            \n",
    "    \n",
    "# #       gene name       KO      thrshld score   E-value \"KO definition\"\n",
    "# Result = collections.namedtuple(\"Result\", [\"query\", \"ko\", \"bitscore\", \"evalue\", \"definition\"])\n",
    "\n",
    "\n",
    "# for id_hmm, hmm in  tqdm(name_to_hmm.items(), desc=\"Performing HMMSearch\", total=len(name_to_hmm)):\n",
    "    # if id_hmm == \"PF00569.21\":\n",
    "    \n",
    "        # data = ko_to_data[id_ko]\n",
    "        # threshold = data[\"threshold\"]\n",
    "        # score_type = data[\"score_type\"]\n",
    "        # definition = data[\"definition\"]\n",
    "    \n",
    "        \n",
    "for id_hmm, hits in tqdm(zip(name_to_hmm.keys(), hmmsearch(name_to_hmm.values(), proteins, cpus=opts.n_jobs, E=opts.evalue))):\n",
    "    assert id_hmm == hits.query_accession.decode()\n",
    "    if len(hits) == 0:\n",
    "        break\n",
    "    \n",
    "            # id_ko = hits.cog\n",
    "            # for hit in hits:\n",
    "            #     if hit.included:\n",
    "            #         result = filter_threshold(hit, threshold, score_type)\n",
    "            #         if result:\n",
    "            #             threshold, score, evalue = result\n",
    "            #             print(hit.name.decode(), id_ko, threshold, score, evalue, definition, sep=\"\\t\")\n",
    "                        \n",
    "                    \n"
   ]
  },
  {
   "cell_type": "code",
   "execution_count": 64,
   "id": "8b00f0bd-4c40-44c6-9d9b-db326e14cc51",
   "metadata": {},
   "outputs": [
    {
     "name": "stdout",
     "output_type": "stream",
     "text": [
      "Before HMMSearch: (21.100000381469727, 21.100000381469727)\n",
      "After HMMSearch: (21.100000381469727, 21.100000381469727)\n"
     ]
    }
   ],
   "source": [
    "with SequenceFile(\"test.faa\", format=\"fasta\", digital=True) as seqs_file:\n",
    "    proteins = seqs_file.read_block()\n",
    "    \n",
    "with HMMFile(\"./PF10417.hmm.gz\") as hmm_file:\n",
    "    for hmm in hmm_file:\n",
    "        print(\"Before HMMSearch:\", hmm.cutoffs.gathering)\n",
    "        for hits in hmmsearch(hmm, proteins, cpus=12, E=10, bit_cutoffs=\"gathering\"):\n",
    "            print(\"After HMMSearch:\", hmm.cutoffs.gathering)\n",
    "\n",
    "\n"
   ]
  },
  {
   "cell_type": "code",
   "execution_count": 62,
   "id": "0bd82ad9-7c20-4653-8363-0be89c46d6c9",
   "metadata": {},
   "outputs": [],
   "source": [
    "\n",
    "# with SequenceFile(\"data/seqs/938293.PRJEB85.HG003687.faa\", digital=True) as seqs_file:\n",
    "#     proteins = seqs_file.read_block()\n",
    "    \n",
    "\n",
    "# baseurl = \"https://github.com/motu-tool/fetchMGs/raw/master/lib/{}.hmm\"\n",
    "\n",
    "# hmms = []\n",
    "# for cog in cutoffs:\n",
    "#     with urllib.request.urlopen(baseurl.format(cog)) as f:\n",
    "#         with HMMFile(f) as hmm_file:\n",
    "#             hmm = hmm_file.read()\n",
    "#         cutoff = cutoffs[hmm.name.decode()]\n",
    "#         hmm.cutoffs.trusted = (cutoff, cutoff)\n",
    "#         hmms.append(hmm)"
   ]
  },
  {
   "cell_type": "code",
   "execution_count": 66,
   "id": "0164319c-1538-4316-aebf-72b3782f0d35",
   "metadata": {},
   "outputs": [
    {
     "data": {
      "text/plain": [
       "<bound method HMM.renormalize of <HMM alphabet=Alphabet.amino() M=40 name=b'1-cysPrx_C'>>"
      ]
     },
     "execution_count": 66,
     "metadata": {},
     "output_type": "execute_result"
    }
   ],
   "source": [
    "hmm."
   ]
  },
  {
   "cell_type": "code",
   "execution_count": 152,
   "id": "a3901659-2bb2-4a94-8d1a-1c589b339e3b",
   "metadata": {},
   "outputs": [
    {
     "data": {
      "text/plain": [
       "threshold                                                  171.83\n",
       "score_type                                                 domain\n",
       "profile_type                                                  all\n",
       "F-measure                                                0.996499\n",
       "nseq                                                          960\n",
       "nseq_used                                                     855\n",
       "alen                                                         1496\n",
       "mlen                                                          383\n",
       "eff_nseq                                                     4.67\n",
       "re/pos                                                      0.590\n",
       "definition      glutaconate CoA-transferase, subunit A [EC:2.8...\n",
       "Name: K01039, dtype: object"
      ]
     },
     "execution_count": 152,
     "metadata": {},
     "output_type": "execute_result"
    }
   ],
   "source": [
    "df_meta_kofam.loc[\"K01039\"]"
   ]
  },
  {
   "cell_type": "code",
   "execution_count": 174,
   "id": "1ceb6fbe-04a4-4a2e-80bf-620757cf223c",
   "metadata": {},
   "outputs": [
    {
     "data": {
      "text/plain": [
       "2142"
      ]
     },
     "execution_count": 174,
     "metadata": {},
     "output_type": "execute_result"
    }
   ],
   "source": [
    "s = 0\n",
    "with SequenceFile(opts.proteins, format=\"fasta\", digital=True) as seqs_file:\n",
    "    for block in seqs_file.read_block(sequences=10):\n",
    "         s += len(k)\n",
    "s"
   ]
  },
  {
   "cell_type": "code",
   "execution_count": 177,
   "id": "419dcaa2-314e-40d7-82e2-b3e385cc408c",
   "metadata": {},
   "outputs": [
    {
     "data": {
      "text/plain": [
       "<pyhmmer.easel.DigitalSequence at 0x18953ac40>"
      ]
     },
     "execution_count": 177,
     "metadata": {},
     "output_type": "execute_result"
    }
   ],
   "source": [
    "k"
   ]
  },
  {
   "cell_type": "code",
   "execution_count": null,
   "id": "f99d3e6d-f090-418e-b2ce-a2ad159fb746",
   "metadata": {},
   "outputs": [],
   "source": []
  }
 ],
 "metadata": {
  "kernelspec": {
   "display_name": "Python 3 (ipykernel)",
   "language": "python",
   "name": "python3"
  },
  "language_info": {
   "codemirror_mode": {
    "name": "ipython",
    "version": 3
   },
   "file_extension": ".py",
   "mimetype": "text/x-python",
   "name": "python",
   "nbconvert_exporter": "python",
   "pygments_lexer": "ipython3",
   "version": "3.9.18"
  }
 },
 "nbformat": 4,
 "nbformat_minor": 5
}
