{
 "cells": [
  {
   "cell_type": "code",
   "execution_count": 61,
   "id": "351d111a-e153-47f4-b281-5b8cdfd80dca",
   "metadata": {},
   "outputs": [
    {
     "data": {
      "text/plain": [
       "'/Users/jolespin/miniconda3/envs/soothsayer_env/bin:/Users/jolespin/miniconda3/condabin:/usr/local/bin:/System/Cryptexes/App/usr/bin:/usr/bin:/bin:/usr/sbin:/sbin:/var/run/com.apple.security.cryptexd/codex.system/bootstrap/usr/local/bin:/var/run/com.apple.security.cryptexd/codex.system/bootstrap/usr/bin:/var/run/com.apple.security.cryptexd/codex.system/bootstrap/usr/appleinternal/bin:/Applications/iTerm.app/Contents/Resources/utilities\\n'"
      ]
     },
     "execution_count": 61,
     "metadata": {},
     "output_type": "execute_result"
    }
   ],
   "source": [
    "import sys, os, time, subprocess\n",
    "from memory_profiler import memory_usage\n",
    "\n",
    "# Get duration\n",
    "def format_duration(duration):\n",
    "    \"\"\"\n",
    "    Format the elapsed time since `t0` in hours, minutes, and seconds.\n",
    "    \n",
    "    Adapted from @john-fouhy:\n",
    "    https://stackoverflow.com/questions/538666/python-format-timedelta-to-string\n",
    "    \"\"\"\n",
    "    hours, remainder = divmod(int(duration), 3600)\n",
    "    minutes, seconds = divmod(remainder, 60)\n",
    "    return f\"{hours:02}:{minutes:02}:{seconds:02}\"\n",
    "\n",
    "# Format header for printing\n",
    "def format_header(text, line_character=\"=\", n=None):\n",
    "    if n is None:\n",
    "        n = len(text)\n",
    "    line = n*line_character\n",
    "    return \"{}\\n{}\\n{}\".format(line, text, line)\n",
    "\n",
    "def format_memory(B, unit=\"infer\", return_units=True):\n",
    "    \"\"\"\n",
    "    Return the given bytes as a human-readable string in KB, MB, GB, or TB.\n",
    "    1 KB = 1024 Bytes\n",
    "\n",
    "    Adapted from the following source (@whereisalext):\n",
    "    https://stackoverflow.com/questions/12523586/python-format-size-application-converting-b-to-kb-mb-gb-tb/52379087\n",
    "    \"\"\"\n",
    "    KB = 1024\n",
    "    MB = KB ** 2  # 1,048,576\n",
    "    GB = KB ** 3  # 1,073,741,824\n",
    "    TB = KB ** 4  # 1,099,511,627,776\n",
    "\n",
    "    def format_with_unit(size, unit_name):\n",
    "        return f\"{size:.2f} {unit_name}\" if return_units else size\n",
    "\n",
    "    unit = unit.lower()\n",
    "    if unit != \"infer\":\n",
    "        unit = unit.lower()\n",
    "        if unit == \"b\":\n",
    "            return format_with_unit(B, \"B\")\n",
    "        elif unit == \"kb\":\n",
    "            return format_with_unit(B / KB, \"KB\")\n",
    "        elif unit == \"mb\":\n",
    "            return format_with_unit(B / MB, \"MB\")\n",
    "        elif unit == \"gb\":\n",
    "            return format_with_unit(B / GB, \"GB\")\n",
    "        elif unit == \"tb\":\n",
    "            return format_with_unit(B / TB, \"TB\")\n",
    "        else:\n",
    "            raise ValueError(f\"Unknown unit: {unit}\")\n",
    "    else:\n",
    "        if B < KB:\n",
    "            return format_with_unit(B, \"B\")\n",
    "        elif KB <= B < MB:\n",
    "            return format_with_unit(B / KB, \"KB\")\n",
    "        elif MB <= B < GB:\n",
    "            return format_with_unit(B / MB, \"MB\")\n",
    "        elif GB <= B < TB:\n",
    "            return format_with_unit(B / GB, \"GB\")\n",
    "        else:\n",
    "            return format_with_unit(B / TB, \"TB\")\n",
    "    \n",
    "class RunShellCommand(object):\n",
    "    \"\"\"\n",
    "    Parameters: \n",
    "        cmd:str command to be executed\n",
    "        name:str name associated with command [Default: None]\n",
    "        shell_executable:str path to executable [Default: /bin/bash]\n",
    "        \n",
    "    Usage: \n",
    "        cmd = RunShellCommand(\"time (sleep 5 & echo 'Hello World')\", name=\"Demo\")\n",
    "        cmd.run()\n",
    "        cmd\n",
    "        # ================================================\n",
    "        # RunShellCommand(name:Demo)\n",
    "        # ================================================\n",
    "        # (/bin/bash)$ time (sleep 5 & echo 'Hello World')\n",
    "        # ________________________________________________\n",
    "        # Properties:\n",
    "        #     - stdout: 61.00 B\n",
    "        #     - stderr: 91.00 B\n",
    "        #     - returncode: 0\n",
    "        #     - peak memory: 37.22 B\n",
    "        #     - duration: 00:00:05\n",
    "\n",
    "    \"\"\"\n",
    "\n",
    "    def __init__(\n",
    "        self, \n",
    "        command:str, \n",
    "        name:str=None, \n",
    "        shell_executable:str=\"/bin/bash\",\n",
    "        ):\n",
    "\n",
    "        if isinstance(command, str):\n",
    "            command = [command]\n",
    "        command = \" \".join(list(filter(bool, map(str, command))))\n",
    "        self.command = command\n",
    "        self.name = name\n",
    "        self.shell_executable = shell_executable\n",
    "        self.executed = False\n",
    "        \n",
    "    def run(self, encoding=\"utf-8\", **popen_kws):\n",
    "        def execute_command(encoding):\n",
    "            # Execute the process\n",
    "            self.process_ = subprocess.Popen(\n",
    "                self.command,\n",
    "                shell=True,\n",
    "                stdout=subprocess.PIPE,\n",
    "                stderr=subprocess.PIPE,\n",
    "                executable=self.shell_executable,\n",
    "                **popen_kws,\n",
    "            )\n",
    "            # Wait until process is complete and return stdout/stderr\n",
    "            self.stdout_, self.stderr_ = self.process_.communicate()\n",
    "            self.returncode_ = self.process_.returncode\n",
    "            \n",
    "            if encoding:\n",
    "                self.stdout_ = self.stdout_.decode(encoding)\n",
    "                self.stderr_ = self.stderr_.decode(encoding)\n",
    "\n",
    "        # Measure memory usage\n",
    "        t0 = time.time()\n",
    "        self.memory_usage_ = memory_usage((execute_command, (encoding,)))\n",
    "        self.duration_ = time.time() - t0\n",
    "\n",
    "        self.peak_memory_ = max(self.memory_usage_)\n",
    "        self.executed = True\n",
    "\n",
    "        return self.stdout_, self.stderr_\n",
    "\n",
    "    def __repr__(self):\n",
    "        name_text = \"{}(name:{})\".format(self.__class__.__name__, self.name)\n",
    "        command_text = \"({})$ {}\".format(self.shell_executable, self.command)\n",
    "        n = max(len(name_text), len(command_text))\n",
    "        pad = 4\n",
    "        fields = [\n",
    "            format_header(name_text,line_character=\"=\", n=n),\n",
    "            *format_header(command_text, line_character=\"_\", n=n).split(\"\\n\")[1:],\n",
    "            ]\n",
    "        if self.executed:\n",
    "            fields += [\n",
    "            \"Properties:\",\n",
    "            pad*\" \" + \"- stdout: {}\".format(format_memory(sys.getsizeof(self.stdout_))),\n",
    "            pad*\" \" + \"- stderr: {}\".format(format_memory(sys.getsizeof(self.stderr_))),\n",
    "            pad*\" \" + \"- returncode: {}\".format(self.returncode_),\n",
    "            pad*\" \" + \"- peak memory: {}\".format(format_memory(self.peak_memory_)),\n",
    "            pad*\" \" + \"- duration: {}\".format(format_duration(self.duration_)),\n",
    "            ]\n",
    "        return \"\\n\".join(fields)\n",
    "    \n",
    "\n",
    "cmd = RunShellCommand(\"echo $PATH\", name=\"Demo\")\n",
    "cmd.run()\n",
    "# ================================================\n",
    "# RunShellCommand(name:Demo)\n",
    "# ================================================\n",
    "# (/bin/bash)$ time (sleep 5 & echo 'Hello World')\n",
    "# ________________________________________________\n",
    "# Properties:\n",
    "#     - stdout: 61.00 B\n",
    "#     - stderr: 91.00 B\n",
    "#     - returncode: 0\n",
    "#     - peak memory: 37.22 B\n",
    "#     - duration: 00:00:05\n"
   ]
  },
  {
   "cell_type": "code",
   "execution_count": 78,
   "id": "ffd3e4cf-7067-4cfe-a288-8d39ba6e2e71",
   "metadata": {
    "scrolled": true
   },
   "outputs": [
    {
     "name": "stdout",
     "output_type": "stream",
     "text": [
      "id_node\tid_cluster\tintra-cluster_connectivity\trepresentative\n",
      "\n",
      "OceanDNA-a1339\tPSLC-4293\t99.75\tTrue\n",
      "\n",
      "OceanDNA-a1340\tPSLC-4293\t99.75\tFalse\n",
      "\n"
     ]
    }
   ],
   "source": [
    "with open(\"/Users/jolespin/Test/test.tsv\", \"r\") as f:\n",
    "    # first_line = f.readline().strip()\n",
    "    # print(first_line)\n",
    "    for i, line in enumerate(f):\n",
    "        print(line)\n",
    "\n",
    "        if i == 2:\n",
    "            break\n"
   ]
  },
  {
   "cell_type": "code",
   "execution_count": 154,
   "id": "2cef255a-7f45-47a2-a2c1-a0814bf93f8c",
   "metadata": {},
   "outputs": [],
   "source": [
    "#!/usr/bin/env python\n",
    "import sys, os, time, gzip, bz2, subprocess, pickle\n",
    "from memory_profiler import memory_usage\n",
    "\n",
    "# Get file object\n",
    "def open_file_reader(filepath:str, compression=\"auto\", binary=False):\n",
    "    \"\"\"\n",
    "\n",
    "    Args:\n",
    "        filepath (str): path/to/file\n",
    "        compression (str, optional): {None, gzip, bz2}. Defaults to \"auto\".\n",
    "\n",
    "    Returns:\n",
    "        file object\n",
    "    \"\"\"\n",
    "    if compression == \"auto\":\n",
    "        compression = None\n",
    "        ext = filepath.split(\".\")[-1].lower()\n",
    "        if ext == \"gz\":\n",
    "            compression = \"gzip\"\n",
    "        elif ext == \"bz2\":\n",
    "            compression = \"bz2\"\n",
    "\n",
    "    if binary:\n",
    "        if not compression:\n",
    "            return open(filepath, \"rb\")\n",
    "        else:\n",
    "            # GZIP compression\n",
    "            if compression == \"gzip\":\n",
    "                return gzip.open(filepath, \"rb\")\n",
    "            # BZ2 compression\n",
    "            elif compression == \"bz2\":\n",
    "                return bz2.open(filepath, \"rb\")\n",
    "    else:\n",
    "        if not compression:\n",
    "            return open(filepath, \"r\")\n",
    "        else:\n",
    "            # GZIP compression\n",
    "            if compression == \"gzip\":\n",
    "                return gzip.open(filepath, \"rt\")\n",
    "                # f.read1 = f.read # Hack from https://github.com/kislyuk/eight/issues/1\n",
    "            # BZ2 compression\n",
    "            elif compression == \"bz2\":\n",
    "                return bz2.open(filepath, \"rt\")\n",
    "            \n",
    "# Get file object\n",
    "def open_file_writer(filepath:str, compression=\"auto\", binary=False):\n",
    "    \"\"\"\n",
    "\n",
    "    Args:\n",
    "        filepath (str): path/to/file\n",
    "        compression (str, optional): {None, gzip, bz2}. Defaults to \"auto\".\n",
    "\n",
    "    Returns:\n",
    "        file object\n",
    "    \"\"\"\n",
    "    if compression == \"auto\":\n",
    "        compression = None\n",
    "        ext = filepath.split(\".\")[-1].lower()\n",
    "        if ext == \"gz\":\n",
    "            compression = \"gzip\"\n",
    "        elif ext == \"bz2\":\n",
    "            compression = \"bz2\"\n",
    "\n",
    "    if binary:\n",
    "        if not compression:\n",
    "            return open(filepath, \"wb\")\n",
    "        else:\n",
    "            # GZIP compression\n",
    "            if compression == \"gzip\":\n",
    "                return gzip.open(filepath, \"wb\")\n",
    "            # BZ2 compression\n",
    "            elif compression == \"bz2\":\n",
    "                return bz2.open(filepath, \"wb\")\n",
    "    else:\n",
    "        if not compression:\n",
    "            return open(filepath, \"w\")\n",
    "        else:\n",
    "            # GZIP compression\n",
    "            if compression == \"gzip\":\n",
    "                return gzip.open(filepath, \"wt\")\n",
    "                # f.read1 = f.read # Hack from https://github.com/kislyuk/eight/issues/1\n",
    "            # BZ2 compression\n",
    "            elif compression == \"bz2\":\n",
    "                return bz2.open(filepath, \"wt\")\n",
    "\n",
    "# Read pickle\n",
    "def read_pickle(filepath, compression=\"auto\"):\n",
    "    with open_file_reader(filepath, compression=compression, binary=True) as f:\n",
    "        return pickle.load(f)\n",
    "    \n",
    "def write_pickle(obj, filepath, compression=\"auto\"):\n",
    "    with open_file_writer(filepath, compression=compression, binary=True) as f:\n",
    "        return pickle.dump(obj, f)\n",
    "\n",
    "# Get duration\n",
    "def format_duration(duration):\n",
    "    \"\"\"\n",
    "    Format the elapsed time since `t0` in hours, minutes, and seconds.\n",
    "    \n",
    "    Adapted from @john-fouhy:\n",
    "    https://stackoverflow.com/questions/538666/python-format-timedelta-to-string\n",
    "    \"\"\"\n",
    "    hours, remainder = divmod(int(duration), 3600)\n",
    "    minutes, seconds = divmod(remainder, 60)\n",
    "    return f\"{hours:02}:{minutes:02}:{seconds:02}\"\n",
    "\n",
    "# Format header for printing\n",
    "def format_header(text, line_character=\"=\", n=None):\n",
    "    if n is None:\n",
    "        n = len(text)\n",
    "    line = n*line_character\n",
    "    return \"{}\\n{}\\n{}\".format(line, text, line)\n",
    "\n",
    "# Format memory\n",
    "def format_memory(B, unit=\"auto\", return_units=True):\n",
    "    \"\"\"\n",
    "    Return the given bytes as a human-readable string in KB, MB, GB, or TB.\n",
    "    1 KB = 1024 Bytes\n",
    "\n",
    "    Adapted from the following source (@whereisalext):\n",
    "    https://stackoverflow.com/questions/12523586/python-format-size-application-converting-b-to-kb-mb-gb-tb/52379087\n",
    "    \"\"\"\n",
    "    KB = 1024\n",
    "    MB = KB ** 2  # 1,048,576\n",
    "    GB = KB ** 3  # 1,073,741,824\n",
    "    TB = KB ** 4  # 1,099,511,627,776\n",
    "\n",
    "    def format_with_unit(size, unit_name):\n",
    "        return f\"{size:.2f} {unit_name}\" if return_units else size\n",
    "\n",
    "    unit = unit.lower()\n",
    "    if unit != \"auto\":\n",
    "        unit = unit.lower()\n",
    "        if unit == \"b\":\n",
    "            return format_with_unit(B, \"B\")\n",
    "        elif unit == \"kb\":\n",
    "            return format_with_unit(B / KB, \"KB\")\n",
    "        elif unit == \"mb\":\n",
    "            return format_with_unit(B / MB, \"MB\")\n",
    "        elif unit == \"gb\":\n",
    "            return format_with_unit(B / GB, \"GB\")\n",
    "        elif unit == \"tb\":\n",
    "            return format_with_unit(B / TB, \"TB\")\n",
    "        else:\n",
    "            raise ValueError(f\"Unknown unit: {unit}\")\n",
    "    else:\n",
    "        if B < KB:\n",
    "            return format_with_unit(B, \"B\")\n",
    "        elif KB <= B < MB:\n",
    "            return format_with_unit(B / KB, \"KB\")\n",
    "        elif MB <= B < GB:\n",
    "            return format_with_unit(B / MB, \"MB\")\n",
    "        elif GB <= B < TB:\n",
    "            return format_with_unit(B / GB, \"GB\")\n",
    "        else:\n",
    "            return format_with_unit(B / TB, \"TB\")\n",
    "    \n",
    "class RunShellCommand(object):\n",
    "    \"\"\"\n",
    "    Args: \n",
    "        command:str command to be executed\n",
    "        name:str name associated with command [Default: None]\n",
    "        shell_executable:str path to executable [Default: /bin/bash]\n",
    "        \n",
    "    Usage: \n",
    "        cmd = RunShellCommand(\"time (sleep 5 & echo 'Hello World')\", name=\"Demo\")\n",
    "        cmd.run()\n",
    "        cmd\n",
    "        # ================================================\n",
    "        # RunShellCommand(name:Demo)\n",
    "        # ================================================\n",
    "        # (/bin/bash)$ time (sleep 5 & echo 'Hello World')\n",
    "        # ________________________________________________\n",
    "        # Properties:\n",
    "        #     - stdout: 61.00 B\n",
    "        #     - stderr: 91.00 B\n",
    "        #     - returncode: 0\n",
    "        #     - peak memory: 37.22 B\n",
    "        #     - duration: 00:00:05\n",
    "\n",
    "    \"\"\"\n",
    "\n",
    "    def __init__(\n",
    "        self, \n",
    "        command:str, \n",
    "        name:str=None, \n",
    "        shell_executable:str=\"/bin/bash\",\n",
    "        ):\n",
    "\n",
    "        if isinstance(command, str):\n",
    "            command = [command]\n",
    "        command = \" \".join(list(filter(bool, map(str, command))))\n",
    "        self.command = command\n",
    "        self.name = name\n",
    "        self.shell_executable = shell_executable\n",
    "        self.executed = False\n",
    "        \n",
    "    def run(self, stdout=subprocess.PIPE, stderr=subprocess.PIPE, encoding=\"utf-8\", **popen_kws):\n",
    "        def execute_command(encoding, stdout, stderr):\n",
    "            # Execute the process\n",
    "            self.process_ = subprocess.Popen(\n",
    "                self.command,\n",
    "                shell=True,\n",
    "                stdout=stdout,\n",
    "                stderr=stderr,\n",
    "                executable=self.shell_executable,\n",
    "                **popen_kws,\n",
    "            )\n",
    "            # Wait until process is complete and return stdout/stderr\n",
    "            self.stdout_, self.stderr_ = self.process_.communicate()\n",
    "            self.returncode_ = self.process_.returncode\n",
    "            \n",
    "            # Encode\n",
    "            if encoding:\n",
    "                if self.stdout_:\n",
    "                    self.stdout_ = self.stdout_.decode(encoding)\n",
    "                if self.stderr_:\n",
    "                    self.stderr_ = self.stderr_.decode(encoding)\n",
    "\n",
    "        # I/O\n",
    "        self.redirect_stdout = None\n",
    "        if isinstance(stdout, str):\n",
    "            self.redirect_stdout = stdout\n",
    "            stdout = open(stdout, \"wb\")\n",
    "\n",
    "        self.redirect_stderr = None\n",
    "        if isinstance(stderr, str):\n",
    "            self.redirect_stderr = stderr\n",
    "            stderr = open(stderr, \"wb\")\n",
    "\n",
    "        # Measure memory usage\n",
    "        t0 = time.time()\n",
    "        self.memory_usage_ = memory_usage((execute_command, (encoding, stdout, stderr,)), max_iterations=1)\n",
    "        self.duration_ = time.time() - t0\n",
    "\n",
    "        # # Flush\n",
    "        # if hasattr(stdout, \"flush\"):\n",
    "        #     stdout.flush()\n",
    "        # if hasattr(stderr, \"flush\"):\n",
    "        #     stderr.flush()\n",
    "            \n",
    "        # Close\n",
    "        if hasattr(stdout, \"close\"):\n",
    "            stdout.close()\n",
    "        if hasattr(stderr, \"close\"):\n",
    "            stderr.close()\n",
    "\n",
    "        self.peak_memory_ = max(self.memory_usage_)\n",
    "        self.executed = True\n",
    "\n",
    "        return self\n",
    "\n",
    "    def __repr__(self):\n",
    "        name_text = \"{}(name:{})\".format(self.__class__.__name__, self.name)\n",
    "        command_text = \"({})$ {}\".format(self.shell_executable, self.command)\n",
    "        n = max(len(name_text), len(command_text))\n",
    "        pad = 4\n",
    "        fields = [\n",
    "            format_header(name_text,line_character=\"=\", n=n),\n",
    "            *format_header(command_text, line_character=\"_\", n=n).split(\"\\n\")[1:],\n",
    "            ]\n",
    "        if self.executed:\n",
    "            fields += [\n",
    "            \"Properties:\",\n",
    "            ]\n",
    "            # stdout\n",
    "            if self.redirect_stdout:\n",
    "                fields += [\n",
    "                pad*\" \" + \"- stdout({}): {}\".format(\n",
    "                    self.redirect_stdout,\n",
    "                    format_memory(os.stat(self.redirect_stdout).st_size),\n",
    "                )\n",
    "                ]\n",
    "            else:\n",
    "                fields += [\n",
    "                pad*\" \" + \"- stdout: {}\".format(format_memory(sys.getsizeof(self.stdout_))),\n",
    "                ]\n",
    "            # stderr\n",
    "            if self.redirect_stderr:\n",
    "                fields += [\n",
    "                pad*\" \" + \"- stderr({}): {}\".format(\n",
    "                    self.redirect_stderr,\n",
    "                    format_memory(os.stat(self.redirect_stderr).st_size),\n",
    "                )\n",
    "                ]\n",
    "            else:\n",
    "                fields += [\n",
    "                pad*\" \" + \"- stderr: {}\".format(format_memory(sys.getsizeof(self.stderr_))),\n",
    "                ]\n",
    "\n",
    "            fields += [\n",
    "            pad*\" \" + \"- returncode: {}\".format(self.returncode_),\n",
    "            pad*\" \" + \"- peak memory: {}\".format(format_memory(self.peak_memory_)),\n",
    "            pad*\" \" + \"- duration: {}\".format(format_duration(self.duration_)),\n",
    "            ]\n",
    "        return \"\\n\".join(fields)\n"
   ]
  },
  {
   "cell_type": "code",
   "execution_count": 155,
   "id": "d654f595-da83-428f-9852-b1332c12a818",
   "metadata": {},
   "outputs": [
    {
     "data": {
      "text/plain": [
       "================================================\n",
       "RunShellCommand(name:Demo)\n",
       "================================================\n",
       "(/bin/bash)$ time (sleep 1 & echo 'Hello World')\n",
       "________________________________________________\n",
       "Properties:\n",
       "    - stdout(test_out.txt): 12.00 B\n",
       "    - stderr(test_err.txt): 42.00 B\n",
       "    - returncode: 0\n",
       "    - peak memory: 36.15 B\n",
       "    - duration: 00:00:00"
      ]
     },
     "execution_count": 155,
     "metadata": {},
     "output_type": "execute_result"
    }
   ],
   "source": [
    "cmd = RunShellCommand(\"time (sleep 1 & echo 'Hello World')\", name=\"Demo\")\n",
    "cmd.run(stdout=\"test_out.txt\", stderr=\"test_err.txt\")\n",
    "# ================================================\n",
    "# RunShellCommand(name:Demo)\n",
    "# ================================================\n",
    "# (/bin/bash)$ time (sleep 1 & echo 'Hello World')\n",
    "# ________________________________________________\n",
    "# Properties:\n",
    "#     - stdout(test_out.txt): 36.00 B\n",
    "#     - stderr(test_err.txt): 126.00 B\n",
    "#     - returncode: 0\n",
    "#     - peak memory: 27.65 B\n",
    "#     - duration: 00:00:01"
   ]
  },
  {
   "cell_type": "code",
   "execution_count": 150,
   "id": "0c845577-3942-4982-b398-7068a4459988",
   "metadata": {},
   "outputs": [
    {
     "name": "stdout",
     "output_type": "stream",
     "text": [
      "Hello World\n",
      "Hello World\n",
      "Hello World\n"
     ]
    }
   ],
   "source": [
    "%%bash\n",
    "cat test_out.txt\n",
    "# Hello World\n",
    "# Hello World\n",
    "# Hello World"
   ]
  },
  {
   "cell_type": "code",
   "execution_count": 156,
   "id": "17cd034b-3cce-4223-a7fc-de110e4ac196",
   "metadata": {},
   "outputs": [
    {
     "name": "stdout",
     "output_type": "stream",
     "text": [
      "Hello World\n",
      "\n"
     ]
    }
   ],
   "source": [
    "with open(\"test_out.txt\", \"rt\") as f:\n",
    "    print(f.read())"
   ]
  },
  {
   "cell_type": "code",
   "execution_count": 158,
   "id": "9dbabc54-0a8e-4333-b477-b3b5f5c653ff",
   "metadata": {},
   "outputs": [
    {
     "data": {
      "text/plain": [
       "{'a': 0}"
      ]
     },
     "execution_count": 158,
     "metadata": {},
     "output_type": "execute_result"
    }
   ],
   "source": [
    "import json\n",
    "d = {\"a\":0}\n",
    "with open(\"test.json\", \"wt\") as f:\n",
    "    json.dump(d, f)\n",
    "with open(\"test.json\", \"rt\") as f:\n",
    "    d2 = json.load(f)\n",
    "d2"
   ]
  },
  {
   "cell_type": "code",
   "execution_count": 174,
   "id": "a2b6b6e1-46ab-4815-b7b2-4377ae5e724d",
   "metadata": {},
   "outputs": [],
   "source": [
    "import logging\n",
    "import sys\n",
    "\n",
    "def build_logger(logger_name=__name__, stream=sys.stdout):\n",
    "    # Create a logger object\n",
    "    logger = logging.getLogger(logger_name)\n",
    "    logger.setLevel(logging.DEBUG)  # Set the logging level\n",
    "    \n",
    "    # Create a stream handler to output logs to stdout\n",
    "    stream_handler = logging.StreamHandler(stream)\n",
    "    stream_handler.setLevel(logging.DEBUG)  # Set the level for the handler\n",
    "    \n",
    "    # Create a formatter and set it to the handler\n",
    "    formatter = logging.Formatter('%(asctime)s - %(name)s - %(levelname)s - %(message)s')\n",
    "    stream_handler.setFormatter(formatter)\n",
    "    \n",
    "    # Add the handler to the logger\n",
    "    logger.addHandler(stream_handler)\n",
    "\n",
    "    return logger\n",
    "    \n",
    "def reset_logger(logger):\n",
    "    # Remove all existing handlers\n",
    "    for handler in logger.handlers[:]:\n",
    "        logger.removeHandler(handler)\n",
    "        handler.close()\n",
    "    \n",
    "    # Set a new handler (for example, to output to stdout)\n",
    "    stream_handler = logging.StreamHandler(sys.stdout)\n",
    "    stream_handler.setLevel(logging.DEBUG)\n",
    "    formatter = logging.Formatter('%(asctime)s - %(name)s - %(levelname)s - %(message)s')\n",
    "    stream_handler.setFormatter(formatter)\n",
    "    logger.addHandler(stream_handler)\n",
    "    \n",
    "    # Optionally set a new level\n",
    "    logger.setLevel(logging.DEBUG)\n",
    "    \n",
    "logger = build_logger(\"FUCK\")\n"
   ]
  },
  {
   "cell_type": "code",
   "execution_count": 178,
   "id": "617ed151-d7ec-4455-8b18-c2f540323353",
   "metadata": {},
   "outputs": [
    {
     "name": "stdout",
     "output_type": "stream",
     "text": [
      "2024-07-26 13:53:28,222 - FUCK - INFO - suh dude\n",
      "2024-07-26 13:53:28,225 - FUCK - ERROR - fuh dude\n"
     ]
    }
   ],
   "source": [
    "# reset_logger(logger)\n",
    "logger.info(\"suh dude\")\n",
    "logger.error(\"fuh dude\")"
   ]
  },
  {
   "cell_type": "code",
   "execution_count": 179,
   "id": "27d5cd4f-dc39-4cef-96ed-4f9783e45bf4",
   "metadata": {},
   "outputs": [
    {
     "name": "stdout",
     "output_type": "stream",
     "text": [
      "2024-07-26 13:53:37,689 - FUCK - INFO - FUCK\n"
     ]
    }
   ],
   "source": [
    "logger.info(\"FUCK\")"
   ]
  },
  {
   "cell_type": "code",
   "execution_count": 181,
   "id": "7cf4884d-4e0d-47f8-87c2-86d2002a82df",
   "metadata": {},
   "outputs": [
    {
     "data": {
      "text/plain": [
       "True"
      ]
     },
     "execution_count": 181,
     "metadata": {},
     "output_type": "execute_result"
    }
   ],
   "source": [
    "any([\"a\"])"
   ]
  },
  {
   "cell_type": "code",
   "execution_count": 196,
   "id": "22d8eafb-9034-41db-b883-b4977e70df98",
   "metadata": {},
   "outputs": [
    {
     "name": "stdout",
     "output_type": "stream",
     "text": [
      "Peak memory usage for func: 19.54 MiB\n",
      "yea boi\n"
     ]
    }
   ],
   "source": [
    "from memory_profiler import memory_usage\n",
    "import functools\n",
    "\n",
    "def profile_peak_memory(func):\n",
    "    @functools.wraps(func)\n",
    "    def wrapper(*args, **kwargs):\n",
    "        # Measure memory usage\n",
    "        mem_usage = memory_usage((func, args, kwargs), max_usage=True, retval=True, max_iterations=1)\n",
    "        peak_memory, result = mem_usage[0], mem_usage[1]\n",
    "        print(f\"Peak memory usage for {func.__name__}: {peak_memory:.2f} MiB\")\n",
    "        return result\n",
    "    return wrapper\n",
    "    \n",
    "@profile_peak_memory\n",
    "def func():\n",
    "    with open(\"test.txt\", \"w\") as f:\n",
    "        print(\"FUCK\", file=f)\n",
    "    return \"yea boi\"\n",
    "\n",
    "result = func()\n",
    "print(result)"
   ]
  },
  {
   "cell_type": "code",
   "execution_count": 189,
   "id": "e8c1a0b8-975b-49ff-83f5-7bdb01330c52",
   "metadata": {},
   "outputs": [
    {
     "name": "stdout",
     "output_type": "stream",
     "text": [
      "FUCK\n"
     ]
    }
   ],
   "source": [
    "%%bash\n",
    "cat test.txt"
   ]
  },
  {
   "cell_type": "code",
   "execution_count": 221,
   "id": "23e652fe-b4e5-4d8f-a220-2862d5b3de45",
   "metadata": {},
   "outputs": [
    {
     "ename": "TypeError",
     "evalue": "profile_peak_memory() missing 1 required positional argument: 'func'",
     "output_type": "error",
     "traceback": [
      "\u001b[0;31m---------------------------------------------------------------------------\u001b[0m",
      "\u001b[0;31mTypeError\u001b[0m                                 Traceback (most recent call last)",
      "Cell \u001b[0;32mIn[221], line 15\u001b[0m\n\u001b[1;32m     12\u001b[0m     \u001b[38;5;28;01mreturn\u001b[39;00m wrapper\n\u001b[1;32m     14\u001b[0m \u001b[38;5;66;03m# Example usage\u001b[39;00m\n\u001b[0;32m---> 15\u001b[0m \u001b[38;5;129m@profile_peak_memory\u001b[39m\u001b[43m(\u001b[49m\u001b[43mstream\u001b[49m\u001b[38;5;241;43m=\u001b[39;49m\u001b[43msys\u001b[49m\u001b[38;5;241;43m.\u001b[39;49m\u001b[43mstderr\u001b[49m\u001b[43m)\u001b[49m\n\u001b[1;32m     16\u001b[0m \u001b[38;5;28;01mdef\u001b[39;00m \u001b[38;5;21mexample_function\u001b[39m(n):\n\u001b[1;32m     18\u001b[0m     \u001b[38;5;28;01mreturn\u001b[39;00m np\u001b[38;5;241m.\u001b[39mpower(np\u001b[38;5;241m.\u001b[39mrandom\u001b[38;5;241m.\u001b[39mnormal(size\u001b[38;5;241m=\u001b[39m(n,n)), \u001b[38;5;241m5\u001b[39m)\n\u001b[1;32m     20\u001b[0m result \u001b[38;5;241m=\u001b[39m example_function(\u001b[38;5;241m10\u001b[39m)\n",
      "\u001b[0;31mTypeError\u001b[0m: profile_peak_memory() missing 1 required positional argument: 'func'"
     ]
    }
   ],
   "source": [
    "import functools\n",
    "from memory_profiler import memory_usage\n",
    "\n",
    "def profile_peak_memory(func, stream=sys.stdout):\n",
    "    @functools.wraps(func)\n",
    "    def wrapper(*args, **kwargs):\n",
    "        # Measure memory usage\n",
    "        mem_usage = memory_usage((func, args, kwargs), max_usage=True, retval=True, max_iterations=1)\n",
    "        peak_memory, result = mem_usage[0], mem_usage[1]\n",
    "        print(f\"Peak memory usage for {func.__name__}: {format_memory(peak_memory)}\", file=stream)\n",
    "        return result\n",
    "    return wrapper\n",
    "\n",
    "# Example usage\n",
    "@profile_peak_memory(stream=sys.stderr)\n",
    "def example_function(n):\n",
    "    \n",
    "    return np.power(np.random.normal(size=(n,n)), 5)\n",
    "\n",
    "result = example_function(10)\n"
   ]
  },
  {
   "cell_type": "code",
   "execution_count": 228,
   "id": "38f37c91-72f0-44d5-9ac8-b1e41bf8acda",
   "metadata": {},
   "outputs": [
    {
     "data": {
      "text/plain": [
       "{'./utility_sandbox.ipynb': 'b6767ad254d8b1edd0967fc287f1e7db',\n",
       " './test.txt': '8921c550080d6f4341d101acfe6ee205',\n",
       " './.ipynb_checkpoints/test_err-checkpoint.txt': '70e50c46e00f00541417d1f5d82d4eee',\n",
       " './.ipynb_checkpoints/test_out-checkpoint.txt': 'e59ff97941044f85df5297e1c302d260',\n",
       " './.ipynb_checkpoints/utility_sandbox-checkpoint.ipynb': 'b6767ad254d8b1edd0967fc287f1e7db',\n",
       " './.ipynb_checkpoints/prototype-checkpoint.ipynb': 'b6fca670b679b6c769aeeea0e78f8122'}"
      ]
     },
     "execution_count": 228,
     "metadata": {},
     "output_type": "execute_result"
    }
   ],
   "source": [
    "import hashlib\n",
    "import os\n",
    "\n",
    "\n",
    "\n",
    "get_md5hash_from_directory(\".\")"
   ]
  },
  {
   "cell_type": "code",
   "execution_count": 209,
   "id": "afdd9eed-0f1b-4c04-9047-04324c70d9f2",
   "metadata": {},
   "outputs": [
    {
     "data": {
      "text/plain": [
       "832.9765625"
      ]
     },
     "execution_count": 209,
     "metadata": {},
     "output_type": "execute_result"
    }
   ],
   "source": [
    "example_function.peak_memory"
   ]
  },
  {
   "cell_type": "code",
   "execution_count": 218,
   "id": "b7dda0b5-ad13-417b-89ca-0d83ee1cd0bc",
   "metadata": {},
   "outputs": [],
   "source": [
    "import genopype as gp"
   ]
  },
  {
   "cell_type": "code",
   "execution_count": 229,
   "id": "067dadc7-3318-4716-a5a7-dbc766a451bb",
   "metadata": {},
   "outputs": [
    {
     "data": {
      "text/plain": [
       "'/\\n|__ .ipynb_checkpoints/\\n|   |__ prototype-checkpoint.ipynb\\n|   |__ test_err-checkpoint.txt\\n|   |__ test_out-checkpoint.txt\\n|   |__ utility_sandbox-checkpoint.ipynb\\n|__ test.txt\\n|__ utility_sandbox.ipynb'"
      ]
     },
     "execution_count": 229,
     "metadata": {},
     "output_type": "execute_result"
    }
   ],
   "source": [
    "gp.get_directory_tree(\".\", ascii=True)"
   ]
  },
  {
   "cell_type": "code",
   "execution_count": 230,
   "id": "17fa259e-9637-4bd7-bd2c-4a88ff16decd",
   "metadata": {},
   "outputs": [
    {
     "data": {
      "text/plain": [
       "IsADirectoryError('FUCK')"
      ]
     },
     "execution_count": 230,
     "metadata": {},
     "output_type": "execute_result"
    }
   ],
   "source": [
    "IsADirectoryError(\"FUCK\")"
   ]
  },
  {
   "cell_type": "code",
   "execution_count": 232,
   "id": "8e1f13e4-0052-4fcf-8c32-7b770433f243",
   "metadata": {},
   "outputs": [
    {
     "ename": "TypeError",
     "evalue": "__init__() missing 1 required positional argument: 'cmd'",
     "output_type": "error",
     "traceback": [
      "\u001b[0;31m---------------------------------------------------------------------------\u001b[0m",
      "\u001b[0;31mTypeError\u001b[0m                                 Traceback (most recent call last)",
      "Cell \u001b[0;32mIn[232], line 1\u001b[0m\n\u001b[0;32m----> 1\u001b[0m \u001b[43msubprocess\u001b[49m\u001b[38;5;241;43m.\u001b[39;49m\u001b[43mCalledProcessError\u001b[49m\u001b[43m(\u001b[49m\u001b[38;5;124;43m\"\u001b[39;49m\u001b[38;5;124;43mFUCK\u001b[39;49m\u001b[38;5;124;43m\"\u001b[39;49m\u001b[43m)\u001b[49m\n",
      "\u001b[0;31mTypeError\u001b[0m: __init__() missing 1 required positional argument: 'cmd'"
     ]
    }
   ],
   "source": [
    "subprocess.CalledProcessError(\"FUCK\")"
   ]
  },
  {
   "cell_type": "code",
   "execution_count": 234,
   "id": "05e35892-109a-4c39-b8be-599ff92081a0",
   "metadata": {},
   "outputs": [
    {
     "ename": "TypeError",
     "evalue": "from_tuples() missing 1 required positional argument: 'tuples'",
     "output_type": "error",
     "traceback": [
      "\u001b[0;31m---------------------------------------------------------------------------\u001b[0m",
      "\u001b[0;31mTypeError\u001b[0m                                 Traceback (most recent call last)",
      "Cell \u001b[0;32mIn[234], line 1\u001b[0m\n\u001b[0;32m----> 1\u001b[0m \u001b[43mpd\u001b[49m\u001b[38;5;241;43m.\u001b[39;49m\u001b[43mMultiIndex\u001b[49m\u001b[38;5;241;43m.\u001b[39;49m\u001b[43mfrom_tuples\u001b[49m\u001b[43m(\u001b[49m\u001b[43m)\u001b[49m\n",
      "File \u001b[0;32m~/miniconda3/envs/soothsayer_env/lib/python3.9/site-packages/pandas/core/indexes/multi.py:222\u001b[0m, in \u001b[0;36mnames_compat.<locals>.new_meth\u001b[0;34m(self_or_cls, *args, **kwargs)\u001b[0m\n\u001b[1;32m    219\u001b[0m \u001b[38;5;28;01mif\u001b[39;00m \u001b[38;5;124m\"\u001b[39m\u001b[38;5;124mname\u001b[39m\u001b[38;5;124m\"\u001b[39m \u001b[38;5;129;01min\u001b[39;00m kwargs:\n\u001b[1;32m    220\u001b[0m     kwargs[\u001b[38;5;124m\"\u001b[39m\u001b[38;5;124mnames\u001b[39m\u001b[38;5;124m\"\u001b[39m] \u001b[38;5;241m=\u001b[39m kwargs\u001b[38;5;241m.\u001b[39mpop(\u001b[38;5;124m\"\u001b[39m\u001b[38;5;124mname\u001b[39m\u001b[38;5;124m\"\u001b[39m)\n\u001b[0;32m--> 222\u001b[0m \u001b[38;5;28;01mreturn\u001b[39;00m \u001b[43mmeth\u001b[49m\u001b[43m(\u001b[49m\u001b[43mself_or_cls\u001b[49m\u001b[43m,\u001b[49m\u001b[43m \u001b[49m\u001b[38;5;241;43m*\u001b[39;49m\u001b[43margs\u001b[49m\u001b[43m,\u001b[49m\u001b[43m \u001b[49m\u001b[38;5;241;43m*\u001b[39;49m\u001b[38;5;241;43m*\u001b[39;49m\u001b[43mkwargs\u001b[49m\u001b[43m)\u001b[49m\n",
      "\u001b[0;31mTypeError\u001b[0m: from_tuples() missing 1 required positional argument: 'tuples'"
     ]
    }
   ],
   "source": [
    "pd.MultiIndex.from_tuples()"
   ]
  },
  {
   "cell_type": "code",
   "execution_count": null,
   "id": "d9b01c95-f8b7-4ead-95c5-46c094377d2e",
   "metadata": {},
   "outputs": [],
   "source": []
  }
 ],
 "metadata": {
  "kernelspec": {
   "display_name": "Python 3 (ipykernel)",
   "language": "python",
   "name": "python3"
  },
  "language_info": {
   "codemirror_mode": {
    "name": "ipython",
    "version": 3
   },
   "file_extension": ".py",
   "mimetype": "text/x-python",
   "name": "python",
   "nbconvert_exporter": "python",
   "pygments_lexer": "ipython3",
   "version": "3.9.18"
  }
 },
 "nbformat": 4,
 "nbformat_minor": 5
}
